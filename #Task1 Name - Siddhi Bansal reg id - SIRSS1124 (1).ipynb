{
 "cells": [
  {
   "cell_type": "markdown",
   "id": "bda276c7",
   "metadata": {},
   "source": [
    "## 1) Pattern 1"
   ]
  },
  {
   "cell_type": "raw",
   "id": "d730a0d3",
   "metadata": {},
   "source": [
    "55555\n",
    "5555\n",
    "555\n",
    "55\n",
    "5"
   ]
  },
  {
   "cell_type": "code",
   "execution_count": 59,
   "id": "8eed251e",
   "metadata": {},
   "outputs": [
    {
     "name": "stdout",
     "output_type": "stream",
     "text": [
      "6\n",
      "55555\n",
      "5555\n",
      "555\n",
      "55\n",
      "5\n",
      "\n"
     ]
    }
   ],
   "source": [
    "n = int(input())\n",
    "for i in range(1,n+1):\n",
    "    for j in range(1,(n+1)-i):\n",
    "        print(\"5\",end=\"\")\n",
    "    print()"
   ]
  },
  {
   "cell_type": "markdown",
   "id": "243491e8",
   "metadata": {},
   "source": [
    "## 2) Pattern 2"
   ]
  },
  {
   "cell_type": "raw",
   "id": "b27bd30f",
   "metadata": {},
   "source": [
    "0 1 2 3 4 5 \n",
    "0 1 2 3 4 \n",
    "0 1 2 3 \n",
    "0 1 2 \n",
    "0 1"
   ]
  },
  {
   "cell_type": "code",
   "execution_count": 60,
   "id": "641fffc9",
   "metadata": {},
   "outputs": [
    {
     "name": "stdout",
     "output_type": "stream",
     "text": [
      "6\n",
      "0 1 2 3 4 5 6 \n",
      "0 1 2 3 4 5 \n",
      "0 1 2 3 4 \n",
      "0 1 2 3 \n",
      "0 1 2 \n",
      "0 1 \n"
     ]
    }
   ],
   "source": [
    "n = int(input())\n",
    "for i in range(1,n+1):\n",
    "    k=2\n",
    "    print(0,1,end=\" \")\n",
    "    for j in range(1,(n+1)-i):\n",
    "        print(k,end=\" \")\n",
    "        k+=1\n",
    "    print()"
   ]
  },
  {
   "cell_type": "markdown",
   "id": "47e746a9",
   "metadata": {},
   "source": [
    "## 3) Pattern 3"
   ]
  },
  {
   "cell_type": "raw",
   "id": "eda9ac6b",
   "metadata": {},
   "source": [
    "1 \n",
    "3 3 \n",
    "5 5 5 \n",
    "7 7 7 7 \n",
    "9 9 9 9 9"
   ]
  },
  {
   "cell_type": "code",
   "execution_count": 61,
   "id": "5b979f3a",
   "metadata": {},
   "outputs": [
    {
     "name": "stdout",
     "output_type": "stream",
     "text": [
      "6\n",
      "1 \n",
      "3 3 \n",
      "5 5 5 \n",
      "7 7 7 7 \n",
      "9 9 9 9 9 \n",
      "11 11 11 11 11 11 \n"
     ]
    }
   ],
   "source": [
    "n = int(input())\n",
    "k=1\n",
    "for i in range(1,n+1):\n",
    "    for j in range(1,i+1):\n",
    "        print(k,end=\" \")\n",
    "    k=k+2\n",
    "    print()"
   ]
  },
  {
   "cell_type": "markdown",
   "id": "053acb2b",
   "metadata": {},
   "source": [
    "## 4) Pattern 4"
   ]
  },
  {
   "cell_type": "raw",
   "id": "f9a1a604",
   "metadata": {},
   "source": [
    "1 \n",
    "2 1 \n",
    "3 2 1 \n",
    "4 3 2 1 \n",
    "5 4 3 2 1 "
   ]
  },
  {
   "cell_type": "code",
   "execution_count": 62,
   "id": "986a9096",
   "metadata": {},
   "outputs": [
    {
     "name": "stdout",
     "output_type": "stream",
     "text": [
      "6\n",
      "1 \n",
      "2 1 \n",
      "3 2 1 \n",
      "4 3 2 1 \n",
      "5 4 3 2 1 \n",
      "6 5 4 3 2 1 \n"
     ]
    }
   ],
   "source": [
    "n = int(input())\n",
    "for i in range(0, n ):\n",
    "    for j in range(i,-1,-1):\n",
    "        print(j+1,end=\" \")\n",
    "    print()"
   ]
  },
  {
   "cell_type": "markdown",
   "id": "f71e3c43",
   "metadata": {},
   "source": [
    "## 5) Pattern 5"
   ]
  },
  {
   "cell_type": "raw",
   "id": "3073bdd0",
   "metadata": {},
   "source": [
    "1 \n",
    "3 2 \n",
    "6 5 4 \n",
    "10 9 8 7"
   ]
  },
  {
   "cell_type": "code",
   "execution_count": 63,
   "id": "73b9bb8b",
   "metadata": {},
   "outputs": [
    {
     "name": "stdout",
     "output_type": "stream",
     "text": [
      "6\n",
      "\n",
      "1 \n",
      "3 2 \n",
      "6 5 4 \n",
      "10 9 8 7 \n",
      "15 14 13 12 11 \n"
     ]
    }
   ],
   "source": [
    "n = int(input())\n",
    "k=0\n",
    "for i in range(0,n):\n",
    "    for j in range(1,i+1):\n",
    "        print(k,end=\" \")\n",
    "        k-=1\n",
    "    k=k+(2*i)+1\n",
    "    print()"
   ]
  },
  {
   "cell_type": "markdown",
   "id": "1ce9aba3",
   "metadata": {},
   "source": [
    "## 6) Pattern 6"
   ]
  },
  {
   "cell_type": "raw",
   "id": "678952e1",
   "metadata": {},
   "source": [
    "1\n",
    "1  1\n",
    "1  2  1\n",
    "1  3  3  1\n",
    "1  4  6  4  1\n",
    "1  5 10 10  5  1\n",
    "1  6 15 20 15  6  1"
   ]
  },
  {
   "cell_type": "code",
   "execution_count": 64,
   "id": "3173cb94",
   "metadata": {},
   "outputs": [
    {
     "name": "stdout",
     "output_type": "stream",
     "text": [
      "6\n",
      "  1\n",
      "  1  1\n",
      "  1  2  1\n",
      "  1  3  3  1\n",
      "  1  4  6  4  1\n",
      "  1  5 10 10  5  1\n"
     ]
    }
   ],
   "source": [
    "def fact(n):\n",
    "    f = 1\n",
    "    for i in range(1, n + 1):\n",
    "        f = f * i\n",
    "    return f\n",
    "\n",
    "n = int(input())\n",
    "for i in range(0, n):\n",
    "    for k in range(0, i + 1): \n",
    "        coef=int(fact(i) / (fact(k) * fact(i - k))) \n",
    "        print(\"%3d\"%coef, end=\"\")\n",
    "    print()"
   ]
  },
  {
   "cell_type": "markdown",
   "id": "35105537",
   "metadata": {},
   "source": [
    "## 7) Pattern 7"
   ]
  },
  {
   "cell_type": "raw",
   "id": "8beb2ae8",
   "metadata": {},
   "source": [
    "1 2 3 4 5 \n",
    "2 2 3 4 5 \n",
    "3 3 3 4 5 \n",
    "4 4 4 4 5 \n",
    "5 5 5 5 5"
   ]
  },
  {
   "cell_type": "code",
   "execution_count": 65,
   "id": "702ca331",
   "metadata": {},
   "outputs": [
    {
     "name": "stdout",
     "output_type": "stream",
     "text": [
      "6\n",
      "1 2 3 4 5 6 \n",
      "2 2 3 4 5 6 \n",
      "3 3 3 4 5 6 \n",
      "4 4 4 4 5 6 \n",
      "5 5 5 5 5 6 \n",
      "6 6 6 6 6 6 \n"
     ]
    }
   ],
   "source": [
    "n = int(input())\n",
    "for i in range(1, n+1 ):\n",
    "    for j in range(1,n+1):\n",
    "        if(j>i):\n",
    "            print(j,end=\" \")\n",
    "        if(j<=i):\n",
    "            print(i,end=\" \")\n",
    "    print()"
   ]
  },
  {
   "cell_type": "markdown",
   "id": "3bae0e46",
   "metadata": {},
   "source": [
    "## 8) Pattern 8"
   ]
  },
  {
   "cell_type": "raw",
   "id": "6b17e593",
   "metadata": {},
   "source": [
    "1 \n",
    "2 4 \n",
    "3 6 9 \n",
    "4 8 12 16 \n",
    "5 10 15 20 25 \n",
    "6 12 18 24 30 36"
   ]
  },
  {
   "cell_type": "code",
   "execution_count": 66,
   "id": "65156b8c",
   "metadata": {},
   "outputs": [
    {
     "name": "stdout",
     "output_type": "stream",
     "text": [
      "6\n",
      "1 \n",
      "2 4 \n",
      "3 6 9 \n",
      "4 8 12 16 \n",
      "5 10 15 20 25 \n",
      "6 12 18 24 30 36 \n"
     ]
    }
   ],
   "source": [
    "n=int(input())\n",
    "for i in range(1,n+1):\n",
    "    for j in range(1,i+1):\n",
    "        print(i*j,end=\" \")\n",
    "        \n",
    "    print()"
   ]
  },
  {
   "cell_type": "markdown",
   "id": "dd52f49f",
   "metadata": {},
   "source": [
    "## 9) Pattern 9"
   ]
  },
  {
   "cell_type": "raw",
   "id": "fb125770",
   "metadata": {},
   "source": [
    "            *   *   *   *   *   *   *   \n",
    "              *   *   *   *   *   *   \n",
    "                *   *   *   *   *   \n",
    "                  *   *   *   *   \n",
    "                    *   *   *   \n",
    "                      *   *   \n",
    "                        *  "
   ]
  },
  {
   "cell_type": "code",
   "execution_count": 67,
   "id": "b5a2f1f0",
   "metadata": {},
   "outputs": [
    {
     "name": "stdout",
     "output_type": "stream",
     "text": [
      "6\n",
      "        *   *   *   *   *   \n",
      "          *   *   *   *   \n",
      "            *   *   *   \n",
      "              *   *   \n",
      "                *   \n",
      "                  \n"
     ]
    }
   ],
   "source": [
    "n=int(input())\n",
    "space=n\n",
    "for i in range(1,n+1):\n",
    "    for j in range(1,space-1):\n",
    "        print(\" \",end=\" \")\n",
    "    for j in range(1,(n+1)-i):\n",
    "        print(\"*\",end=\"   \")\n",
    "    space+=1\n",
    "    print()"
   ]
  },
  {
   "cell_type": "markdown",
   "id": "0e4922f9",
   "metadata": {},
   "source": [
    "### 10) Pattern 10"
   ]
  },
  {
   "cell_type": "raw",
   "id": "b8131869",
   "metadata": {},
   "source": [
    "              *   \n",
    "            *   *   \n",
    "          *   *   *   \n",
    "        *   *   *   *   \n",
    "     *   *   *   *   *   \n",
    "    *   *   *   *   *   *   \n",
    "  *   *   *   *   *   *   *   \n",
    "*   *   *   *   *   *   *   *  "
   ]
  },
  {
   "cell_type": "code",
   "execution_count": 68,
   "id": "87c3dd83",
   "metadata": {},
   "outputs": [
    {
     "name": "stdout",
     "output_type": "stream",
     "text": [
      "7\n",
      "            *   \n",
      "          *   *   \n",
      "        *   *   *   \n",
      "      *   *   *   *   \n",
      "    *   *   *   *   *   \n",
      "  *   *   *   *   *   *   \n",
      "*   *   *   *   *   *   *   \n"
     ]
    }
   ],
   "source": [
    "n=int(input())\n",
    "space=n\n",
    "for i in range(1,n+1):\n",
    "    for j in range(1,space):\n",
    "        print(\" \",end=\" \")\n",
    "    for j in range(1,i+1):\n",
    "        print(\"*\",end=\"   \")\n",
    "    space-=1\n",
    "    print()"
   ]
  },
  {
   "cell_type": "markdown",
   "id": "e726870f",
   "metadata": {},
   "source": [
    "## 11) Pattern 11"
   ]
  },
  {
   "cell_type": "raw",
   "id": "7e42dade",
   "metadata": {},
   "source": [
    "* \n",
    "* * \n",
    "* * * \n",
    "* * * * \n",
    "* * * * * \n",
    "* * * * * * \n",
    "\n",
    "* * * * * * \n",
    "* * * * * \n",
    "* * * * \n",
    "* * * \n",
    "* * \n",
    "* "
   ]
  },
  {
   "cell_type": "code",
   "execution_count": 69,
   "id": "b754bf33",
   "metadata": {},
   "outputs": [
    {
     "name": "stdout",
     "output_type": "stream",
     "text": [
      "6\n",
      "* \n",
      "* * \n",
      "* * * \n",
      "* * * * \n",
      "* * * * * \n",
      "* * * * * * \n",
      "\n",
      "* * * * * * \n",
      "* * * * * \n",
      "* * * * \n",
      "* * * \n",
      "* * \n",
      "* \n",
      "\n"
     ]
    }
   ],
   "source": [
    "n=int(input())\n",
    "#first pattern\n",
    "for i in range(1,n+1):\n",
    "    for j in range(1,i+1):\n",
    "        print(\"*\",end=\" \")\n",
    "    print()\n",
    "    \n",
    "print()   \n",
    "#second pattern\n",
    "for i in range(n+1,0,-1):\n",
    "    for j in range(0,i-1):\n",
    "        print(\"*\",end=\" \")\n",
    "    print()\n",
    "    \n",
    "    \n"
   ]
  },
  {
   "cell_type": "markdown",
   "id": "e9dd234e",
   "metadata": {},
   "source": [
    "## 12) Pattern 12"
   ]
  },
  {
   "cell_type": "raw",
   "id": "462735e9",
   "metadata": {},
   "source": [
    "* \n",
    "* * \n",
    "* * * \n",
    "* * * * \n",
    "* * * * * \n",
    "* * * * * * \n",
    "* * * * * \n",
    "* * * * \n",
    "* * * \n",
    "* * \n",
    "* "
   ]
  },
  {
   "cell_type": "code",
   "execution_count": 70,
   "id": "525202ac",
   "metadata": {},
   "outputs": [
    {
     "name": "stdout",
     "output_type": "stream",
     "text": [
      "6\n",
      "* \n",
      "* * \n",
      "* * * \n",
      "* * * * \n",
      "* * * * * \n",
      "* * * * * * \n",
      "* * * * * \n",
      "* * * * \n",
      "* * * \n",
      "* * \n",
      "* \n",
      "\n"
     ]
    }
   ],
   "source": [
    "n=int(input())\n",
    "#first pattern\n",
    "for i in range(1,n+1):\n",
    "    for j in range(1,i+1):\n",
    "        print(\"*\",end=\" \")\n",
    "    print()\n",
    "    \n",
    "#second pattern\n",
    "for i in range(n,0,-1):\n",
    "    for j in range(0,i-1):\n",
    "        print(\"*\",end=\" \")\n",
    "    print()\n",
    "    \n",
    "    \n"
   ]
  },
  {
   "cell_type": "markdown",
   "id": "6cafaba9",
   "metadata": {},
   "source": [
    "## 13) Pattern 13"
   ]
  },
  {
   "cell_type": "raw",
   "id": "1f55af1e",
   "metadata": {},
   "source": [
    "        * \n",
    "      * * \n",
    "    * * * \n",
    "  * * * * \n",
    "* * * * * \n",
    "  * * * * \n",
    "    * * * \n",
    "      * * \n",
    "        * "
   ]
  },
  {
   "cell_type": "code",
   "execution_count": 71,
   "id": "7573b2d6",
   "metadata": {},
   "outputs": [
    {
     "name": "stdout",
     "output_type": "stream",
     "text": [
      "6\n",
      "          * \n",
      "        * * \n",
      "      * * * \n",
      "    * * * * \n",
      "  * * * * * \n",
      "* * * * * * \n",
      "  * * * * * \n",
      "    * * * * \n",
      "      * * * \n",
      "        * * \n",
      "          * \n"
     ]
    }
   ],
   "source": [
    "n=int(input())\n",
    "k=2*n-2\n",
    "#first pattern\n",
    "for i in range(0,n-1):\n",
    "    for _ in range(0,k):\n",
    "        print(end=\" \")\n",
    "    k=k-2\n",
    "    for j in range(0,i+1):\n",
    "        print(\"*\",end=\" \")\n",
    "    print()\n",
    "k=-1\n",
    "    \n",
    "#second pattern\n",
    "for i in range(n-1,-1,-1):\n",
    "    for _ in range(k,-1,-1):\n",
    "        print(end=\" \")\n",
    "    k=k+2\n",
    "    for j in range(0,i+1):\n",
    "        print(\"*\",end=\" \")\n",
    "    print()\n",
    "    \n",
    "    \n"
   ]
  },
  {
   "cell_type": "markdown",
   "id": "3e0fb5f5",
   "metadata": {},
   "source": [
    "## 14) Pattern 14"
   ]
  },
  {
   "cell_type": "raw",
   "id": "aad57c8b",
   "metadata": {},
   "source": [
    "    * * * * * * * \n",
    "     * * * * * * \n",
    "      * * * * * \n",
    "       * * * * \n",
    "        * * * \n",
    "         * * \n",
    "          * \n",
    "          * \n",
    "         * * \n",
    "        * * * \n",
    "       * * * * \n",
    "      * * * * * \n",
    "     * * * * * * \n",
    "    * * * * * * *"
   ]
  },
  {
   "cell_type": "code",
   "execution_count": 72,
   "id": "8a1a631d",
   "metadata": {},
   "outputs": [
    {
     "name": "stdout",
     "output_type": "stream",
     "text": [
      "6\n",
      "    * * * * * * * \n",
      "     * * * * * * \n",
      "      * * * * * \n",
      "       * * * * \n",
      "        * * * \n",
      "         * * \n",
      "          * \n",
      "          * \n",
      "         * * \n",
      "        * * * \n",
      "       * * * * \n",
      "      * * * * * \n",
      "     * * * * * * \n",
      "    * * * * * * * \n"
     ]
    }
   ],
   "source": [
    "n=int(input())\n",
    "k = n - 2\n",
    "for i in range(n, -1 , -1):\n",
    "    for j in range(k , 0 , -1):\n",
    "        print(end=\" \")\n",
    "    k = k + 1    \n",
    "    for j in range(0, i+1):\n",
    "        print(\"* \" , end=\"\")\n",
    "    print()\n",
    "k = 2 * n  - 2\n",
    "for i in range(0 , n+1):\n",
    "    for j in range(0 , k):\n",
    "        print(end=\" \")\n",
    "    k = k - 1\n",
    "    for j in range(0, i + 1):\n",
    "        print(\"* \", end=\"\")\n",
    "    print()\n",
    " "
   ]
  },
  {
   "cell_type": "markdown",
   "id": "27b39717",
   "metadata": {},
   "source": [
    "## 15) Pattern 15"
   ]
  },
  {
   "cell_type": "code",
   "execution_count": 74,
   "id": "7b92a5b2",
   "metadata": {},
   "outputs": [
    {
     "name": "stdout",
     "output_type": "stream",
     "text": [
      "10\n",
      "**********\n",
      "****__****\n",
      "***____***\n",
      "**______**\n",
      "*________*\n"
     ]
    }
   ],
   "source": [
    "n=int(input())\n",
    "print(\"*\" * n,end=\"\\n\")\n",
    "i=(n//2) -1\n",
    "j=2\n",
    "while i!=0:\n",
    "    while j<=(n-2):\n",
    "        print(\"*\" * i,end=\"\")\n",
    "        print(\"_\" * j,end=\"\")\n",
    "        print(\"*\" * i,end=\"\\n\")\n",
    "        i=i-1\n",
    "        j=j+2"
   ]
  },
  {
   "cell_type": "code",
   "execution_count": null,
   "id": "11c85d50",
   "metadata": {},
   "outputs": [],
   "source": []
  }
 ],
 "metadata": {
  "kernelspec": {
   "display_name": "Python 3",
   "language": "python",
   "name": "python3"
  },
  "language_info": {
   "codemirror_mode": {
    "name": "ipython",
    "version": 3
   },
   "file_extension": ".py",
   "mimetype": "text/x-python",
   "name": "python",
   "nbconvert_exporter": "python",
   "pygments_lexer": "ipython3",
   "version": "3.8.8"
  }
 },
 "nbformat": 4,
 "nbformat_minor": 5
}
