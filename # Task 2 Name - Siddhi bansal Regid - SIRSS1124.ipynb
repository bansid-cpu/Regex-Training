{
 "cells": [
  {
   "cell_type": "markdown",
   "id": "792bae0a",
   "metadata": {},
   "source": [
    "## 1. Write a lambda expression to extract first word of a string."
   ]
  },
  {
   "cell_type": "code",
   "execution_count": null,
   "id": "4638b5f8",
   "metadata": {},
   "outputs": [],
   "source": [
    "a = lambda s: s.split()[0]\n",
    "a('where are you?')\n"
   ]
  },
  {
   "cell_type": "markdown",
   "id": "80e6ee27",
   "metadata": {},
   "source": [
    "## 2. Write a function to extract first word of s string (with many words separated by space)."
   ]
  },
  {
   "cell_type": "code",
   "execution_count": 15,
   "id": "271a2490",
   "metadata": {},
   "outputs": [],
   "source": [
    "def first_word(s):\n",
    "    return s.split()[0]"
   ]
  },
  {
   "cell_type": "code",
   "execution_count": 16,
   "id": "a36070d4",
   "metadata": {},
   "outputs": [
    {
     "data": {
      "text/plain": [
       "'To'"
      ]
     },
     "execution_count": 16,
     "metadata": {},
     "output_type": "execute_result"
    }
   ],
   "source": [
    "first_word('To long have you been there?')"
   ]
  },
  {
   "cell_type": "markdown",
   "id": "33893b3a",
   "metadata": {},
   "source": [
    "## 3. Extract the first word from every string from a list of strings by using map function."
   ]
  },
  {
   "cell_type": "code",
   "execution_count": 17,
   "id": "3d5e15cd",
   "metadata": {},
   "outputs": [],
   "source": [
    "l = ['i love banana','how are you','are you a girl']"
   ]
  },
  {
   "cell_type": "code",
   "execution_count": 18,
   "id": "d14bf603",
   "metadata": {},
   "outputs": [
    {
     "data": {
      "text/plain": [
       "['i', 'how', 'are']"
      ]
     },
     "execution_count": 18,
     "metadata": {},
     "output_type": "execute_result"
    }
   ],
   "source": [
    "list(map(lambda s: s.split()[0],l))\n"
   ]
  },
  {
   "cell_type": "markdown",
   "id": "3eeaa77c",
   "metadata": {},
   "source": [
    "## 4. Write a function to return a list of prime factors of a given number."
   ]
  },
  {
   "cell_type": "code",
   "execution_count": null,
   "id": "74d3b98f",
   "metadata": {},
   "outputs": [],
   "source": [
    "import math\n",
    "def primeFactors(n):\n",
    "    while n % 2 == 0:\n",
    "        print (2,end=\" \"),\n",
    "        n = n / 2\n",
    "    for i in range(3,int(math.sqrt(n))+1,2):\n",
    "        while n % i== 0:\n",
    "            print (i,end=\" \"),\n",
    "            n = n / i\n",
    "    if n > 2:\n",
    "        print (n,end =\" \")\n",
    "\n",
    "n = int(input())\n",
    "primeFactors(n)\n"
   ]
  },
  {
   "cell_type": "markdown",
   "id": "10554f85",
   "metadata": {},
   "source": [
    "## 5. Write a function that finds 2nd largest among 4 numbers (Repetitions are allowed, without sorting)."
   ]
  },
  {
   "cell_type": "code",
   "execution_count": null,
   "id": "72ef9f7c",
   "metadata": {},
   "outputs": [],
   "source": [
    "list = []\n",
    "n = int(input(\"number of elements \"))\n",
    "for i in range(1, n + 1):\n",
    "    m = int(input())\n",
    "    list.append(m)\n",
    "\n",
    "list1 = set(list)\n",
    "list1.remove(max(list1))\n",
    "print(\"Second max :\",max(list1))\n"
   ]
  },
  {
   "cell_type": "code",
   "execution_count": null,
   "id": "2fd999ab",
   "metadata": {},
   "outputs": [],
   "source": []
  }
 ],
 "metadata": {
  "kernelspec": {
   "display_name": "Python 3",
   "language": "python",
   "name": "python3"
  },
  "language_info": {
   "codemirror_mode": {
    "name": "ipython",
    "version": 3
   },
   "file_extension": ".py",
   "mimetype": "text/x-python",
   "name": "python",
   "nbconvert_exporter": "python",
   "pygments_lexer": "ipython3",
   "version": "3.8.8"
  }
 },
 "nbformat": 4,
 "nbformat_minor": 5
}
