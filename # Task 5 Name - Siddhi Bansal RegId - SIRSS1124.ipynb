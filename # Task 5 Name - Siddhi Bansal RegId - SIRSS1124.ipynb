{
 "cells": [
  {
   "cell_type": "markdown",
   "id": "d99476a1",
   "metadata": {},
   "source": [
    "## 1. Given a list of integers, write a function to return the sum of all prime numbers in list."
   ]
  },
  {
   "cell_type": "code",
   "execution_count": 11,
   "id": "794bdcdb",
   "metadata": {},
   "outputs": [
    {
     "name": "stdout",
     "output_type": "stream",
     "text": [
      "[11, 13, 19]\n",
      "43\n"
     ]
    }
   ],
   "source": [
    "def isPrime(n):\n",
    "    if (n<2):\n",
    "        return False\n",
    "    for i in range (2,n):\n",
    "        if (n%i==0):\n",
    "            return False\n",
    "            break\n",
    "    return True\n",
    "\n",
    "li = []\n",
    "a = [1,10,11,12,13,16 ,18,19]\n",
    "for x in a:\n",
    "    if isPrime(x):\n",
    "        li.append(x)\n",
    "\n",
    "print(li)\n",
    "\n",
    "total = 0\n",
    "for j in range(len(li)):\n",
    "    total += li[j]\n",
    "\n",
    "print(total)"
   ]
  },
  {
   "cell_type": "markdown",
   "id": "47c124ac",
   "metadata": {},
   "source": [
    "## 2. Given a list of integers, write a function to check whether the list is strictly increasing or not."
   ]
  },
  {
   "cell_type": "code",
   "execution_count": 12,
   "id": "a1cf3d2c",
   "metadata": {},
   "outputs": [
    {
     "name": "stdout",
     "output_type": "stream",
     "text": [
      "6\n",
      "23\n",
      "45\n",
      "12\n",
      "3\n",
      "8\n",
      "9\n",
      "No,it is not strictly increasing\n"
     ]
    }
   ],
   "source": [
    "def strictlyinc(list,n):\n",
    "    count = 0\n",
    "    for i in range(0,n-1):\n",
    "        if(l[i]>=l[i+1]):\n",
    "            count+=1\n",
    "    if(count>=1):\n",
    "        print(\"No,it is not strictly increasing\")\n",
    "    else:\n",
    "        print(\"yes, it is strictly incresing\")\n",
    "        \n",
    "p=int(input())\n",
    "l = [[input()] for _ in range(p)]\n",
    "n = len(l)\n",
    "strictlyinc(l,n)"
   ]
  },
  {
   "cell_type": "markdown",
   "id": "da07e421",
   "metadata": {},
   "source": [
    "## 3. Write a function to check whether a given list is expanding or not (the difference between adjacent elements should keep on increasing)."
   ]
  },
  {
   "cell_type": "code",
   "execution_count": 15,
   "id": "3a4c8913",
   "metadata": {},
   "outputs": [
    {
     "name": "stdout",
     "output_type": "stream",
     "text": [
      "No\n"
     ]
    }
   ],
   "source": [
    "def expand(list,n):\n",
    "    count = 0\n",
    "    for i in range(0,n-3):\n",
    "        if((list[i+1]-list[i]) > (list[i+2]-list[i+1])):\n",
    "            count+=1\n",
    "    if(count>=1):\n",
    "        print(\"No\")\n",
    "    else:\n",
    "        print(\"Yes\")\n",
    "        \n",
    "list = [1,2,5,7,11,16,22,27]\n",
    "n = len(list)\n",
    "expand(list,n)"
   ]
  },
  {
   "cell_type": "markdown",
   "id": "67a756f4",
   "metadata": {},
   "source": [
    "## 4. Write a function to calculate all permutations of a given string. (Without using itertools)"
   ]
  },
  {
   "cell_type": "code",
   "execution_count": 17,
   "id": "a7be2ea6",
   "metadata": {},
   "outputs": [
    {
     "name": "stdout",
     "output_type": "stream",
     "text": [
      "bcda\n",
      "['bcda', 'cbda', 'cdba', 'cdab', 'bdca', 'dbca', 'dcba', 'dcab', 'bdac', 'dbac', 'dabc', 'dacb', 'bcad', 'cbad', 'cabd', 'cadb', 'bacd', 'abcd', 'acbd', 'acdb', 'badc', 'abdc', 'adbc', 'adcb']\n"
     ]
    }
   ],
   "source": [
    "def permutation(str):\n",
    "    if len(str)==1:\n",
    "        return [str]\n",
    "    perms = permutation(str[1:])\n",
    "    char = str[0]\n",
    "    result = []\n",
    "    for perm in perms:\n",
    "        for i in range(len(perm)+1):\n",
    "            result.append(perm[:i] + char + perm[i:])\n",
    "    return result\n",
    "\n",
    "\n",
    "s = str(input())\n",
    "print(permutation(s))\n",
    "    \n",
    "    "
   ]
  },
  {
   "cell_type": "code",
   "execution_count": null,
   "id": "6fad7d0a",
   "metadata": {},
   "outputs": [],
   "source": []
  }
 ],
 "metadata": {
  "kernelspec": {
   "display_name": "Python 3",
   "language": "python",
   "name": "python3"
  },
  "language_info": {
   "codemirror_mode": {
    "name": "ipython",
    "version": 3
   },
   "file_extension": ".py",
   "mimetype": "text/x-python",
   "name": "python",
   "nbconvert_exporter": "python",
   "pygments_lexer": "ipython3",
   "version": "3.8.8"
  }
 },
 "nbformat": 4,
 "nbformat_minor": 5
}
