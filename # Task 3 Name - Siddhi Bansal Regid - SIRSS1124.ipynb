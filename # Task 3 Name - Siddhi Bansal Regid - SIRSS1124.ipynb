{
 "cells": [
  {
   "cell_type": "markdown",
   "id": "528c85a6",
   "metadata": {},
   "source": [
    "# 1. Write a function to return nth term of Fibonacci sequence."
   ]
  },
  {
   "cell_type": "code",
   "execution_count": null,
   "id": "9aa36043",
   "metadata": {},
   "outputs": [],
   "source": [
    "def fib(n):\n",
    "    a = 0\n",
    "    b = 1\n",
    "    if n < 0:\n",
    "        print(\"Invalid\")\n",
    "    if n == 0:\n",
    "        return a\n",
    "    if n == 1:\n",
    "        return b\n",
    "    else:\n",
    "        for i in range(2, n):\n",
    "            c = a + b\n",
    "            a = b\n",
    "            b = c\n",
    "        return b\n",
    "\n",
    "n=int(input(\"Enter no:\"))\n",
    "print(fib(n))"
   ]
  },
  {
   "cell_type": "markdown",
   "id": "5b965a08",
   "metadata": {},
   "source": [
    "## 2. Write a function to find out GCD of two numbers using EUCLID'S algorithm."
   ]
  },
  {
   "cell_type": "code",
   "execution_count": null,
   "id": "16a30a1b",
   "metadata": {},
   "outputs": [],
   "source": [
    "def GCD(a,b):\n",
    "    if(a==0):\n",
    "        return b\n",
    "    if(b==0):\n",
    "        return a\n",
    "    if(a==b):\n",
    "        return b\n",
    "    if(a>b):\n",
    "        p = GCD(b,a%b)\n",
    "        return p\n",
    "    else:\n",
    "        q = GCD(a,b%a)\n",
    "        return q\n",
    "    \n",
    "a = int(input(\"First number:\"))\n",
    "b = int(input(\"Second number:\"))\n",
    "print('GCD IS',GCD(a,b))\n",
    "        \n",
    "        \n",
    "    "
   ]
  },
  {
   "cell_type": "markdown",
   "id": "f4731613",
   "metadata": {},
   "source": [
    "## 3. Write a function to find LCM of two number in most optimizer way."
   ]
  },
  {
   "cell_type": "code",
   "execution_count": null,
   "id": "6fd57069",
   "metadata": {},
   "outputs": [],
   "source": [
    "def LCM(a,b):\n",
    "    max_num = max(a,b)\n",
    "    while(1):\n",
    "        if(max_num%a==0 and max_num%b==0):\n",
    "            break\n",
    "        max_num = max_num +1\n",
    "    return max_num\n",
    "\n",
    "a = int(input())\n",
    "b = int(input())\n",
    "v = LCM(a,b)\n",
    "print(\"The LCM Of\", a ,\"and\", b ,\"is\",v)\n",
    "        "
   ]
  },
  {
   "cell_type": "code",
   "execution_count": null,
   "id": "42d0af74",
   "metadata": {},
   "outputs": [],
   "source": []
  }
 ],
 "metadata": {
  "kernelspec": {
   "display_name": "Python 3",
   "language": "python",
   "name": "python3"
  },
  "language_info": {
   "codemirror_mode": {
    "name": "ipython",
    "version": 3
   },
   "file_extension": ".py",
   "mimetype": "text/x-python",
   "name": "python",
   "nbconvert_exporter": "python",
   "pygments_lexer": "ipython3",
   "version": "3.8.8"
  }
 },
 "nbformat": 4,
 "nbformat_minor": 5
}
